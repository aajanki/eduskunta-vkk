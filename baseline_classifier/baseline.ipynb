{
 "cells": [
  {
   "cell_type": "markdown",
   "metadata": {},
   "source": [
    "# Training a baseline classifier\n",
    "\n",
    "Train a simple baseline classifier for predicting the sentence class in the eduskunta-vkk data.\n",
    "\n",
    "See the [README](../README.md) for a description of the dataset."
   ]
  },
  {
   "cell_type": "code",
   "execution_count": 1,
   "metadata": {},
   "outputs": [],
   "source": [
    "%matplotlib inline\n",
    "\n",
    "import re\n",
    "import json\n",
    "import numpy as np\n",
    "import pandas as pd\n",
    "import matplotlib.pyplot as plt\n",
    "from voikko import libvoikko\n",
    "from sklearn.decomposition import TruncatedSVD\n",
    "from sklearn.feature_selection import chi2, SelectKBest\n",
    "from sklearn.feature_extraction.text import CountVectorizer, TfidfVectorizer\n",
    "from sklearn.linear_model import LogisticRegression\n",
    "from sklearn.metrics import classification_report, confusion_matrix, ConfusionMatrixDisplay\n",
    "from sklearn.model_selection import cross_val_score, GridSearchCV\n",
    "from sklearn.pipeline import Pipeline\n",
    "from sklearn.preprocessing import StandardScaler, OneHotEncoder, MaxAbsScaler, LabelEncoder\n",
    "from sklearn.svm import LinearSVC"
   ]
  },
  {
   "cell_type": "code",
   "execution_count": 2,
   "metadata": {},
   "outputs": [],
   "source": [
    "plt.rcParams.update({\n",
    "    'figure.figsize': (16, 8),\n",
    "    'font.size': 14,\n",
    "})"
   ]
  },
  {
   "cell_type": "code",
   "execution_count": 3,
   "metadata": {},
   "outputs": [],
   "source": [
    "split_whitespace_re = re.compile(r\"(?u)\\b\\w\\w+\\b\")\n",
    "\n",
    "def get_pipeline(n_dim=500, classifier='svc', reducer=None, C=1):\n",
    "    steps = []\n",
    "    if reducer == 'svd':\n",
    "        steps.append(('dimensionality_reduction', TruncatedSVD(n_dim)))\n",
    "    elif reducer == 'chi2':\n",
    "        steps.append(('dimensionality_reduction', SelectKBest(chi2, k=n_dim)))\n",
    "    elif reducer:\n",
    "        assert False, 'Unknown reducer'\n",
    "\n",
    "    steps.append(('scaler', MaxAbsScaler()))\n",
    "\n",
    "    if classifier == 'logreg':\n",
    "        steps.append(('classifier', LogisticRegression(multi_class='multinomial', max_iter=1000)))\n",
    "    elif classifier == 'svc':\n",
    "        steps.append(('classifier', LinearSVC(loss='hinge', C=C, intercept_scaling=5.0,\n",
    "                                              max_iter=100000, multi_class='ovr')))\n",
    "    elif classifier:\n",
    "        assert False, 'Unknown classifier'\n",
    "    \n",
    "    return Pipeline(steps)\n",
    "\n",
    "def build_voikko_tokenizer(voikko):\n",
    "    def tokenizer(text):\n",
    "        tokens = []\n",
    "        for w in split_whitespace_re.findall(text):\n",
    "            analyzed = voikko.analyze(w)\n",
    "\n",
    "            if analyzed:\n",
    "                token = analyzed[0].get('BASEFORM', w)\n",
    "            else:\n",
    "                token = w\n",
    "\n",
    "            tokens.append(token.lower())\n",
    "\n",
    "        return tokens\n",
    "\n",
    "    return tokenizer\n",
    "\n",
    "def build_vectorizer(max_features=None):\n",
    "    return TfidfVectorizer(tokenizer=tokenizer,\n",
    "                           token_pattern=None,\n",
    "                           ngram_range=(1, 2),\n",
    "                           max_df=0.1,\n",
    "                           max_features=max_features,\n",
    "                           stop_words=stop_words_fi)\n",
    "\n",
    "voikko = libvoikko.Voikko('fi')\n",
    "tokenizer = build_voikko_tokenizer(voikko)\n",
    "stop_words_fi = list(set(tokenizer(t)[0] for t in [\n",
    "    'ei', 'että', 'he', 'hän', 'ja', 'joka', 'jos', 'koska', 'kuin', 'kuka',\n",
    "    'kun', 'me', 'mikä', 'minä', 'myös', 'ne', 'nuo', 'nämä', 'olla', 'se',\n",
    "    'sinä', 'tai', 'te', 'tuo', 'tämä', 'vai',\n",
    "]))\n",
    "vectorizer = build_vectorizer()"
   ]
  },
  {
   "cell_type": "markdown",
   "metadata": {},
   "source": [
    "## Load data"
   ]
  },
  {
   "cell_type": "code",
   "execution_count": 4,
   "metadata": {},
   "outputs": [],
   "source": [
    "def load_documents(filename):\n",
    "    return pd.read_csv(filename, header=0).rename(columns={'ministry': 'class'})\n",
    "\n",
    "def load_data():\n",
    "    train = load_documents('../vkk/train.csv.bz2')\n",
    "    dev = load_documents('../vkk/dev.csv.bz2')\n",
    "    test = load_documents('../vkk/test.csv.bz2')\n",
    "    \n",
    "    return train, dev, test"
   ]
  },
  {
   "cell_type": "code",
   "execution_count": 5,
   "metadata": {
    "scrolled": true
   },
   "outputs": [
    {
     "name": "stdout",
     "output_type": "stream",
     "text": [
      "Number of train samples: 49106\n",
      "Number of dev samples: 3000\n",
      "Number of test samples: 3000\n",
      "Number of tokens: 395281\n"
     ]
    }
   ],
   "source": [
    "train, dev, test = load_data()\n",
    "vectorizer.fit(train['sentence'])\n",
    "\n",
    "print(f'Number of train samples: {len(train)}')\n",
    "print(f'Number of dev samples: {len(dev)}')\n",
    "print(f'Number of test samples: {len(test)}')\n",
    "print(f'Number of tokens: {len(vectorizer.get_feature_names())}')"
   ]
  },
  {
   "cell_type": "code",
   "execution_count": 6,
   "metadata": {},
   "outputs": [],
   "source": [
    "short_names = {\n",
    "    'perhe- ja peruspalveluministeri': 'per',\n",
    "    'maatalous- ja ympäristöministeri': 'maa',\n",
    "    'sisäministeri': 'sis',\n",
    "    'oikeus- ja työministeri': 'oik',\n",
    "    'opetus- ja kulttuuriministeri': 'ope',\n",
    "    'valtiovarainministeri': 'val',\n",
    "    'liikenne- ja viestintäministeri': 'lii',\n",
    "    'sosiaali- ja terveysministeri': 'sos',\n",
    "    'elinkeinoministeri': 'eli',\n",
    "    'ulkoministeri': 'ulk',\n",
    "    'kunta- ja uudistusministeri': 'kun',\n",
    "    'eurooppa-, kulttuuri- ja urheiluministeri': 'eur',\n",
    "    'pääministeri': 'pää',\n",
    "    'puolustusministeri': 'puo',\n",
    "    'ulkomaankauppa- ja kehitysministeri': 'uke',\n",
    "}"
   ]
  },
  {
   "cell_type": "markdown",
   "metadata": {},
   "source": [
    "## Explore tokens that separate one class from the others"
   ]
  },
  {
   "cell_type": "code",
   "execution_count": 7,
   "metadata": {},
   "outputs": [],
   "source": [
    "count_vectorizer = CountVectorizer(tokenizer=tokenizer, min_df=10, stop_words=stop_words_fi)\n",
    "counts = count_vectorizer.fit_transform(train['sentence'], train['class'])"
   ]
  },
  {
   "cell_type": "code",
   "execution_count": 8,
   "metadata": {},
   "outputs": [
    {
     "name": "stdout",
     "output_type": "stream",
     "text": [
      "sisäministeri\n",
      "------------------------------\n",
      "poliisi (838)\n",
      "maahanmuuttovirasto (421)\n",
      "sisäministeriö (290)\n",
      "turvapaikanhakija (416)\n",
      "ulkomaalaislaki (180)\n",
      "vastaanottokeskus (260)\n",
      "suojelu (477)\n",
      "poliisihallitus (141)\n",
      "oleskelulupa (255)\n",
      "poliisilaitos (116)\n",
      "hakija (547)\n",
      "ulkomaalainen (202)\n",
      "turvapaikka (130)\n",
      "palauttaa (176)\n",
      "turvapaikkahakemus (91)\n",
      "poliisimies (61)\n",
      "rajavartiolaitos (91)\n",
      "maahantulo (73)\n",
      "kansainvälistää (218)\n",
      "irak (104)\n",
      "\n",
      "oikeus- ja työministeri\n",
      "------------------------------\n",
      "työnhakija (263)\n",
      "oikeusministeriö (318)\n",
      "velallinen (161)\n",
      "palkkatuki (128)\n",
      "työtön (282)\n",
      "työllistyä (322)\n",
      "työ (1683)\n",
      "toimisto (204)\n",
      "rikoslaki (166)\n",
      "työttömyysetuus (264)\n",
      "henkilötieto (116)\n",
      "käräjäoikeus (86)\n",
      "palkkatuettu (60)\n",
      "yritystoiminta (203)\n",
      "suojaosuus (59)\n",
      "rangaistava (104)\n",
      "työvoima (163)\n",
      "törkeä (87)\n",
      "luku (555)\n",
      "elinkeinotoimisto (91)\n",
      "\n",
      "maatalous- ja ympäristöministeri\n",
      "------------------------------\n",
      "metsätalousministeriö (310)\n",
      "eläin (327)\n",
      "metsähallitus (228)\n",
      "metsä (177)\n",
      "metsästys (175)\n",
      "susi (161)\n",
      "ympäristöministeriö (206)\n",
      "laji (162)\n",
      "elintarvike (196)\n",
      "vahinko (235)\n",
      "maatalous (136)\n",
      "kalastus (94)\n",
      "koira (167)\n",
      "itämeri (124)\n",
      "luonnonvarakeskus (81)\n",
      "metsätalous (91)\n",
      "poikkeuslupa (106)\n",
      "hehtaari (72)\n",
      "riistakeskus (67)\n",
      "maa (1536)\n",
      "\n",
      "perhe- ja peruspalveluministeri\n",
      "------------------------------\n",
      "terveydenhuolto (870)\n",
      "sosiaali (1272)\n",
      "hoito (1056)\n",
      "palvelu (2364)\n",
      "potilas (455)\n",
      "asiakas (957)\n",
      "sosiaalihuolto (216)\n",
      "iäkäs (163)\n",
      "kela (360)\n",
      "terveysministeriö (632)\n",
      "thl (149)\n",
      "toimeentulotuki (297)\n",
      "sairaanhoitopiiri (152)\n",
      "kunta (1678)\n",
      "omaishoito (116)\n",
      "hyvinvointi (498)\n",
      "lastensuojelu (116)\n",
      "sosiaalihuoltolaki (99)\n",
      "terveys (533)\n",
      "ammattihenkilö (199)\n",
      "\n",
      "sosiaali- ja terveysministeri\n",
      "------------------------------\n",
      "lääke (443)\n",
      "kansaneläkelaitos (486)\n",
      "sairausvakuutuslaki (153)\n",
      "työkyvyttömyyseläke (103)\n",
      "aktiivimalli (65)\n",
      "vakuutettu (104)\n",
      "alkuomavastuu (61)\n",
      "apteekki (86)\n",
      "sairaus (310)\n",
      "kuntoutus (389)\n",
      "etuus (278)\n",
      "lääkehoito (134)\n",
      "omavastuu (45)\n",
      "eläke (73)\n",
      "korvattava (100)\n",
      "terveysministeriö (632)\n",
      "sairausvakuutus (79)\n",
      "lääkekatto (38)\n",
      "korvattavuus (53)\n",
      "työttömyyskassa (48)\n",
      "\n",
      "opetus- ja kulttuuriministeri\n",
      "------------------------------\n",
      "opetus (1067)\n",
      "koulutus (1613)\n",
      "varhaiskasvatus (548)\n",
      "ammatillinen (638)\n",
      "yliopisto (532)\n",
      "opiskelija (688)\n",
      "kulttuuriministeriö (514)\n",
      "järjestäjä (382)\n",
      "perusopetus (286)\n",
      "korkeakoulu (302)\n",
      "ammattikorkeakoulu (270)\n",
      "oppilas (235)\n",
      "tutkinto (339)\n",
      "varhaiskasvatuslaki (150)\n",
      "koulu (319)\n",
      "osata (660)\n",
      "oppia (161)\n",
      "opettaja (169)\n",
      "opetushallitus (126)\n",
      "opetussuunnitelma (158)\n",
      "\n",
      "eurooppa-, kulttuuri- ja urheiluministeri\n",
      "------------------------------\n",
      "tuloraja (56)\n",
      "taide (117)\n",
      "museo (31)\n",
      "erikoismuseo (18)\n",
      "tekijänoikeus (55)\n",
      "museovirasto (40)\n",
      "nuorisoala (15)\n",
      "liikunta (88)\n",
      "urheilu (39)\n",
      "opintotuki (83)\n",
      "taiteilija (59)\n",
      "musiikki (35)\n",
      "kirjasto (26)\n",
      "esittävä (18)\n",
      "kulttuuriministeriö (514)\n",
      "työpaja (19)\n",
      "luovi (23)\n",
      "teos (23)\n",
      "museolaki (10)\n",
      "nuorisolaki (18)\n",
      "\n",
      "liikenne- ja viestintäministeri\n",
      "------------------------------\n",
      "liikenne (755)\n",
      "viestintäministeriö (225)\n",
      "liikennevirasto (115)\n",
      "ajoneuvo (255)\n",
      "maantie (83)\n",
      "rata (84)\n",
      "viestintävirasto (90)\n",
      "postilaki (65)\n",
      "yleisradio (58)\n",
      "ajokortti (51)\n",
      "tasoristeys (46)\n",
      "palvelutaso (78)\n",
      "hanko (42)\n",
      "nopeusrajoitus (41)\n",
      "rataosa (51)\n",
      "vr (217)\n",
      "tie (134)\n",
      "liikenneturvallisuus (58)\n",
      "tieliikennelaki (41)\n",
      "kuljettaja (75)\n",
      "\n",
      "ulkoministeri\n",
      "------------------------------\n",
      "yk (200)\n",
      "turkki (61)\n",
      "libya (40)\n",
      "sahara (31)\n",
      "suomia (708)\n",
      "marokko (27)\n",
      "ihmisoikeus (113)\n",
      "eu (1252)\n",
      "länsi (45)\n",
      "päätöslauselma (29)\n",
      "venezuela (18)\n",
      "syyria (33)\n",
      "pakistan (15)\n",
      "suurlähetystö (32)\n",
      "bahrain (13)\n",
      "pääsihteeri (12)\n",
      "äänestys (16)\n",
      "ulkoministeri (16)\n",
      "edustusto (53)\n",
      "elinsiirto (12)\n",
      "\n",
      "pääministeri\n",
      "------------------------------\n",
      "vr (217)\n",
      "yhtiö (466)\n",
      "posti (259)\n",
      "stream (18)\n",
      "lippu (73)\n",
      "nord (19)\n",
      "peruslippu (14)\n",
      "talousvyöhyke (15)\n",
      "junalippu (16)\n",
      "säästölippu (11)\n",
      "kioski (18)\n",
      "lipunmyynti (20)\n",
      "verkkokauppa (11)\n",
      "finnair (45)\n",
      "vapo (13)\n",
      "juna (48)\n",
      "maakohtainen (26)\n",
      "sairausaika (15)\n",
      "puhelinpalvelus (12)\n",
      "osoitteeton (23)\n",
      "\n",
      "valtiovarainministeri\n",
      "------------------------------\n",
      "vero (294)\n",
      "verotus (252)\n",
      "verohallinto (163)\n",
      "verovelvollinen (119)\n",
      "verokanta (62)\n",
      "veropohja (45)\n",
      "auto (167)\n",
      "tuloverolaki (45)\n",
      "verottaa (50)\n",
      "vähennys (85)\n",
      "virtuaalivaluutta (33)\n",
      "valtiovarainministeriö (149)\n",
      "yleishyödyllinen (63)\n",
      "vähennyskelpoinen (32)\n",
      "verotusarvo (34)\n",
      "virvoitusjuomavero (30)\n",
      "kotitalousvähennys (39)\n",
      "verovapaa (29)\n",
      "verokohtelu (38)\n",
      "tulorekisteri (61)\n",
      "\n",
      "elinkeinoministeri\n",
      "------------------------------\n",
      "sähkö (180)\n",
      "finpron (44)\n",
      "kaivostoiminta (71)\n",
      "kaivoslaki (50)\n",
      "kaivos (48)\n",
      "yhtiö (466)\n",
      "esir (36)\n",
      "posti (259)\n",
      "energia (163)\n",
      "fortum (48)\n",
      "raskoneen (23)\n",
      "terrafame (25)\n",
      "finland (77)\n",
      "markkina (285)\n",
      "uusiutuva (104)\n",
      "sähköntuotanto (23)\n",
      "team (46)\n",
      "tehoreservi (16)\n",
      "stuk (35)\n",
      "pk (55)\n",
      "\n",
      "kunta- ja uudistusministeri\n",
      "------------------------------\n",
      "maistraatti (63)\n",
      "väestötietojärjestelmä (54)\n",
      "koordinaatioryhmä (36)\n",
      "alueellistaa (36)\n",
      "senaatti (46)\n",
      "kuntalaki (32)\n",
      "kiinteistövarallisuus (24)\n",
      "valtuusto (17)\n",
      "koulunkäyntiavustaja (11)\n",
      "arviointimenettely (27)\n",
      "muuttopäivä (14)\n",
      "postilaatikko (16)\n",
      "valtio (1434)\n",
      "kunta (1678)\n",
      "palvelukeskus (24)\n",
      "muuttoilmoitus (16)\n",
      "valtionosuusjärjestelmä (21)\n",
      "asiointipiste (10)\n",
      "jakamistalous (10)\n",
      "kuollut (32)\n",
      "\n",
      "puolustusministeri\n",
      "------------------------------\n",
      "puolustusvoima (150)\n",
      "mpk (32)\n",
      "varusmies (41)\n",
      "maanpuolustus (33)\n",
      "harjoitustoiminta (32)\n",
      "sotilaallinen (59)\n",
      "nato (30)\n",
      "vientilupa (27)\n",
      "varusmiespalvelus (23)\n",
      "puolustus (21)\n",
      "puolustusministeriö (32)\n",
      "maanpuolustuskoulutusyhdistys (14)\n",
      "palvelus (114)\n",
      "pääesikunta (15)\n",
      "asevelvollinen (23)\n",
      "ilmavoima (13)\n",
      "turvallisuuskomitea (12)\n",
      "kutsunta (10)\n",
      "harjoitus (39)\n",
      "diabeetikko (29)\n",
      "\n",
      "ulkomaankauppa- ja kehitysministeri\n",
      "------------------------------\n",
      "kehitysyhteistyö (64)\n",
      "finnfundin (32)\n",
      "finnfund (28)\n",
      "kansalaisjärjestö (67)\n",
      "humanitaarinen (93)\n",
      "kehitysmaa (20)\n",
      "ulkoministeriö (52)\n",
      "honduras (14)\n",
      "unrwa (14)\n",
      "palestiinalaishallinto (17)\n",
      "kehityspolitiikka (21)\n",
      "globaalikasvatus (14)\n",
      "ulkoasiainministeriö (54)\n",
      "järjestö (266)\n",
      "tyttö (71)\n",
      "israel (38)\n",
      "opetussektori (10)\n",
      "kehityspoliittinen (24)\n",
      "miinatoiminta (11)\n",
      "lisääntymisterveys (39)\n",
      "\n"
     ]
    }
   ],
   "source": [
    "def get_discriminating_indexes(k, counts, count_vectorizer):\n",
    "    res = {}\n",
    "    for c in train['class'].unique():\n",
    "        y = train['class'] == c\n",
    "        scores, _ = chi2(counts, y)\n",
    "        res[c] = np.argsort(-scores)[:k]\n",
    "\n",
    "    return res\n",
    "\n",
    "def print_discriminating_words(k, counts, count_vectorizer):\n",
    "    discriminating = get_discriminating_indexes(k, counts, count_vectorizer)\n",
    "    word_frequencies = counts.sum(axis=0)\n",
    "    tokens = count_vectorizer.get_feature_names()\n",
    "    for class_name, inds in discriminating.items():\n",
    "        print(class_name)\n",
    "        print('-'*30)\n",
    "        print('\\n'.join(f'{tokens[i]} ({word_frequencies[0, i]})' for i in inds))\n",
    "        print()\n",
    "\n",
    "print_discriminating_words(20, counts, count_vectorizer)"
   ]
  },
  {
   "cell_type": "markdown",
   "metadata": {},
   "source": [
    "## Optimal regularization value\n",
    "\n",
    "Compute the optimal value for the SVM C parameter using cross-validation. The multiclass predictions are summarized by a class-weighted F1 score."
   ]
  },
  {
   "cell_type": "code",
   "execution_count": 9,
   "metadata": {},
   "outputs": [],
   "source": [
    "X_train = vectorizer.transform(train['sentence'])\n",
    "\n",
    "enc = LabelEncoder()\n",
    "y_encoded = enc.fit_transform(train['class'])"
   ]
  },
  {
   "cell_type": "code",
   "execution_count": 10,
   "metadata": {},
   "outputs": [
    {
     "data": {
      "text/plain": [
       "{'mean_fit_time': array([21.1965363 , 33.20670218, 41.19568949, 76.77878017, 91.45055304]),\n",
       " 'std_fit_time': array([ 2.02018287,  3.93715169,  3.76438412,  5.84442586, 14.66030563]),\n",
       " 'mean_score_time': array([0.02206101, 0.02154036, 0.02152672, 0.02144451, 0.019102  ]),\n",
       " 'std_score_time': array([0.00036037, 0.00015329, 0.00014377, 0.00022319, 0.00279738]),\n",
       " 'param_classifier__C': masked_array(data=[0.01, 0.05, 0.1, 0.5, 1],\n",
       "              mask=[False, False, False, False, False],\n",
       "        fill_value='?',\n",
       "             dtype=object),\n",
       " 'params': [{'classifier__C': 0.01},\n",
       "  {'classifier__C': 0.05},\n",
       "  {'classifier__C': 0.1},\n",
       "  {'classifier__C': 0.5},\n",
       "  {'classifier__C': 1}],\n",
       " 'split0_test_score': array([0.67553176, 0.69631313, 0.70551521, 0.69537832, 0.69305352]),\n",
       " 'split1_test_score': array([0.67202949, 0.69386205, 0.70642346, 0.69722382, 0.69546001]),\n",
       " 'split2_test_score': array([0.67806745, 0.70058623, 0.71402113, 0.70150603, 0.69801546]),\n",
       " 'split3_test_score': array([0.68146921, 0.70395732, 0.71300309, 0.70214697, 0.69886505]),\n",
       " 'split4_test_score': array([0.67998418, 0.70334268, 0.71324448, 0.69698228, 0.69406109]),\n",
       " 'mean_test_score': array([0.67741642, 0.69961228, 0.71044147, 0.69864748, 0.69589102]),\n",
       " 'std_test_score': array([0.00334703, 0.00394191, 0.00367818, 0.00267973, 0.00223356]),\n",
       " 'rank_test_score': array([5, 2, 1, 3, 4], dtype=int32)}"
      ]
     },
     "execution_count": 10,
     "metadata": {},
     "output_type": "execute_result"
    }
   ],
   "source": [
    "grid = {'classifier__C': [1e-2, 5e-2, 1e-1, 5e-1, 1]}\n",
    "pipe = get_pipeline(classifier='svc')\n",
    "gridsearch = GridSearchCV(pipe, grid, cv=5, scoring='f1_weighted', n_jobs=-1)\n",
    "gridsearch.fit(X_train, y_encoded)\n",
    "\n",
    "scores_C = pd.DataFrame({\n",
    "    'SVM regularization parameter': grid['classifier__C'],\n",
    "    'F1 score': gridsearch.cv_results_['mean_test_score'],\n",
    "})\n",
    "\n",
    "gridsearch.cv_results_"
   ]
  },
  {
   "cell_type": "code",
   "execution_count": 11,
   "metadata": {},
   "outputs": [
    {
     "data": {
      "image/png": "[encoded data removed]",
      "text/plain": [
       "<Figure size 1152x576 with 1 Axes>"
      ]
     },
     "metadata": {
      "needs_background": "light"
     },
     "output_type": "display_data"
    }
   ],
   "source": [
    "scores_C.plot(x='SVM regularization parameter', y='F1 score', logx=True);"
   ]
  },
  {
   "cell_type": "markdown",
   "metadata": {},
   "source": [
    "## Optimal number of tokens\n",
    "\n",
    "Cross-validated F1 score as the function of the number of (lemmatized) tokens."
   ]
  },
  {
   "cell_type": "code",
   "execution_count": 12,
   "metadata": {},
   "outputs": [],
   "source": [
    "scores_tokens = []\n",
    "feature_sizes = np.logspace(np.log10(5000), np.log10(400000), 10).astype(int)\n",
    "for max_features in feature_sizes:\n",
    "    vec = build_vectorizer(max_features=max_features)\n",
    "    pipe = get_pipeline(classifier='svc', C=0.1)\n",
    "    X_small = vec.fit_transform(train['sentence'])\n",
    "    f1 = cross_val_score(pipe, X_small, y_encoded, scoring='f1_weighted', cv=5, n_jobs=-1)\n",
    "    scores_tokens.append({\n",
    "        'Number of tokens': len(vec.get_feature_names()),\n",
    "        'F1 score': f1.mean(),\n",
    "    })\n",
    "\n",
    "scores_tokens = pd.DataFrame(scores_tokens)"
   ]
  },
  {
   "cell_type": "code",
   "execution_count": 13,
   "metadata": {
    "scrolled": false
   },
   "outputs": [
    {
     "data": {
      "image/png": "[encoded data removed]",
      "text/plain": [
       "<Figure size 1152x576 with 1 Axes>"
      ]
     },
     "metadata": {
      "needs_background": "light"
     },
     "output_type": "display_data"
    }
   ],
   "source": [
    "scores_tokens.plot(x='Number of tokens', y='F1 score');"
   ]
  },
  {
   "cell_type": "markdown",
   "metadata": {},
   "source": [
    "## Train a classifier\n",
    "\n",
    "Train a linear SVM. Learn the SVM regularization parameter by cross-validation on the training set. The multiclass predictions are summarized by a weighted F1 score."
   ]
  },
  {
   "cell_type": "code",
   "execution_count": 14,
   "metadata": {},
   "outputs": [
    {
     "data": {
      "text/plain": [
       "Pipeline(steps=[('scaler', MaxAbsScaler()),\n",
       "                ('classifier',\n",
       "                 LinearSVC(C=0.1, intercept_scaling=5.0, loss='hinge',\n",
       "                           max_iter=100000))])"
      ]
     },
     "execution_count": 14,
     "metadata": {},
     "output_type": "execute_result"
    }
   ],
   "source": [
    "vectorizer = build_vectorizer(max_features=100000)\n",
    "pipe = get_pipeline(classifier='svc', C=0.1)\n",
    "\n",
    "X_train = vectorizer.fit_transform(train['sentence'])\n",
    "pipe.fit(X_train, y_encoded)"
   ]
  },
  {
   "cell_type": "code",
   "execution_count": 15,
   "metadata": {},
   "outputs": [
    {
     "name": "stdout",
     "output_type": "stream",
     "text": [
      "                                           precision    recall  f1-score   support\n",
      "\n",
      "                       elinkeinoministeri       0.97      0.90      0.94      1931\n",
      "eurooppa-, kulttuuri- ja urheiluministeri       0.98      0.90      0.94       795\n",
      "              kunta- ja uudistusministeri       0.98      0.92      0.95       920\n",
      "          liikenne- ja viestintäministeri       0.96      0.96      0.96      3691\n",
      "         maatalous- ja ympäristöministeri       0.95      0.98      0.96      7365\n",
      "                  oikeus- ja työministeri       0.93      0.93      0.93      6057\n",
      "            opetus- ja kulttuuriministeri       0.94      0.96      0.95      5417\n",
      "          perhe- ja peruspalveluministeri       0.92      0.94      0.93      7923\n",
      "                       puolustusministeri       0.97      0.93      0.95       756\n",
      "                             pääministeri       0.98      0.93      0.96       798\n",
      "                            sisäministeri       0.94      0.96      0.95      5581\n",
      "            sosiaali- ja terveysministeri       0.94      0.89      0.92      3581\n",
      "      ulkomaankauppa- ja kehitysministeri       0.99      0.95      0.97       627\n",
      "                            ulkoministeri       0.97      0.93      0.95       946\n",
      "                    valtiovarainministeri       0.97      0.95      0.96      2718\n",
      "\n",
      "                                 accuracy                           0.95     49106\n",
      "                                macro avg       0.96      0.94      0.95     49106\n",
      "                             weighted avg       0.95      0.95      0.95     49106\n",
      "\n"
     ]
    }
   ],
   "source": [
    "y_train_true = train['class']\n",
    "y_train_pred = enc.inverse_transform(pipe.predict(X_train))\n",
    "\n",
    "print(classification_report(y_train_true, y_train_pred))"
   ]
  },
  {
   "cell_type": "markdown",
   "metadata": {},
   "source": [
    "## Evaluation on the test set"
   ]
  },
  {
   "cell_type": "code",
   "execution_count": 16,
   "metadata": {},
   "outputs": [
    {
     "name": "stdout",
     "output_type": "stream",
     "text": [
      "                                           precision    recall  f1-score   support\n",
      "\n",
      "                       elinkeinoministeri       0.56      0.47      0.51       104\n",
      "eurooppa-, kulttuuri- ja urheiluministeri       0.68      0.45      0.54        51\n",
      "              kunta- ja uudistusministeri       0.55      0.29      0.38        56\n",
      "          liikenne- ja viestintäministeri       0.74      0.74      0.74       231\n",
      "         maatalous- ja ympäristöministeri       0.75      0.82      0.79       450\n",
      "                  oikeus- ja työministeri       0.64      0.65      0.65       362\n",
      "            opetus- ja kulttuuriministeri       0.78      0.82      0.80       348\n",
      "          perhe- ja peruspalveluministeri       0.66      0.74      0.70       480\n",
      "                       puolustusministeri       0.79      0.59      0.68        39\n",
      "                             pääministeri       0.59      0.41      0.48        54\n",
      "                            sisäministeri       0.71      0.77      0.74       336\n",
      "            sosiaali- ja terveysministeri       0.72      0.60      0.66       215\n",
      "      ulkomaankauppa- ja kehitysministeri       0.76      0.70      0.73        37\n",
      "                            ulkoministeri       0.84      0.62      0.71        76\n",
      "                    valtiovarainministeri       0.72      0.70      0.71       161\n",
      "\n",
      "                                 accuracy                           0.71      3000\n",
      "                                macro avg       0.70      0.62      0.65      3000\n",
      "                             weighted avg       0.71      0.71      0.70      3000\n",
      "\n"
     ]
    }
   ],
   "source": [
    "X_test = vectorizer.transform(test['sentence'])\n",
    "y_test_true = test['class']\n",
    "y_test_pred = enc.inverse_transform(pipe.predict(X_test))\n",
    "\n",
    "print(classification_report(y_test_true, y_test_pred))"
   ]
  },
  {
   "cell_type": "code",
   "execution_count": 18,
   "metadata": {},
   "outputs": [
    {
     "data": {
      "image/png": "[encoded data removed]",
      "text/plain": [
       "<Figure size 1152x576 with 2 Axes>"
      ]
     },
     "metadata": {
      "needs_background": "light"
     },
     "output_type": "display_data"
    }
   ],
   "source": [
    "display_labels = [short_names[x] for x in enc.inverse_transform(pipe.classes_)]\n",
    "cm = confusion_matrix(y_test_true, y_test_pred)\n",
    "disp = ConfusionMatrixDisplay(confusion_matrix=cm, display_labels=display_labels)\n",
    "disp.plot(cmap=plt.cm.Blues, values_format='d');"
   ]
  },
  {
   "cell_type": "code",
   "execution_count": null,
   "metadata": {},
   "outputs": [],
   "source": []
  }
 ],
 "metadata": {
  "kernelspec": {
   "display_name": "Python 3",
   "language": "python",
   "name": "python3"
  },
  "language_info": {
   "codemirror_mode": {
    "name": "ipython",
    "version": 3
   },
   "file_extension": ".py",
   "mimetype": "text/x-python",
   "name": "python",
   "nbconvert_exporter": "python",
   "pygments_lexer": "ipython3",
   "version": "3.7.7"
  }
 },
 "nbformat": 4,
 "nbformat_minor": 4
}
